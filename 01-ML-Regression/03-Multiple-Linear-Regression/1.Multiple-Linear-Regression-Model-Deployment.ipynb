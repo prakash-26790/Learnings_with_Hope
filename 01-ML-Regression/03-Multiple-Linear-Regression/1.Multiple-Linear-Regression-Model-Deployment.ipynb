{
 "cells": [
  {
   "cell_type": "code",
   "execution_count": 3,
   "id": "0b075dd8-9618-4aa5-a0ce-0823316ed273",
   "metadata": {},
   "outputs": [],
   "source": [
    "import pickle\n",
    "filename = \"MLR.sav\"\n",
    "loaded_model=pickle.load(open(filename, \"rb\"))"
   ]
  },
  {
   "cell_type": "code",
   "execution_count": 7,
   "id": "dbc49d0b-a0bb-4a8d-932b-9272e583851b",
   "metadata": {},
   "outputs": [
    {
     "name": "stdout",
     "output_type": "stream",
     "text": [
      "Enter the neccessary inputs to predict Profit\n"
     ]
    },
    {
     "name": "stdout",
     "output_type": "stream",
     "text": [
      "Amount Spend for R&D: 123\n",
      "Amount Spend for Administration: 123\n",
      "Amount Spend for Marketing: 123\n",
      "Enter state blongs to(California/Florida/New York): florida\n"
     ]
    },
    {
     "name": "stderr",
     "output_type": "stream",
     "text": [
      "/opt/anaconda3/lib/python3.12/site-packages/sklearn/base.py:493: UserWarning: X does not have valid feature names, but LinearRegression was fitted with feature names\n",
      "  warnings.warn(\n"
     ]
    },
    {
     "data": {
      "text/plain": [
       "array([[42971.70224921]])"
      ]
     },
     "execution_count": 7,
     "metadata": {},
     "output_type": "execute_result"
    }
   ],
   "source": [
    "print(\"Enter the neccessary inputs to predict Profit\")\n",
    "rd=int(input(\"Amount Spend for R&D:\"))\n",
    "admin=int(input(\"Amount Spend for Administration:\"))\n",
    "marketing=int(input(\"Amount Spend for Marketing:\"))\n",
    "state=input(\"Enter state blongs to(California/Florida/New York):\").lower()\n",
    "florida=0\n",
    "newyork=0\n",
    "if state == \"florida\":\n",
    "    florida = 1\n",
    "elif state == \"new york\":\n",
    "    newyork = 1\n",
    "elif state != \"california\":\n",
    "    print(\"Invalid state. Please retry.\")\n",
    "    exit()\n",
    "loaded_model.predict([[rd, admin, marketing, florida, newyork]])\n"
   ]
  },
  {
   "cell_type": "code",
   "execution_count": null,
   "id": "2e2ada0a-c36d-4cf9-980f-7c88bd9cabd6",
   "metadata": {},
   "outputs": [],
   "source": []
  }
 ],
 "metadata": {
  "kernelspec": {
   "display_name": "Python 3 (ipykernel)",
   "language": "python",
   "name": "python3"
  },
  "language_info": {
   "codemirror_mode": {
    "name": "ipython",
    "version": 3
   },
   "file_extension": ".py",
   "mimetype": "text/x-python",
   "name": "python",
   "nbconvert_exporter": "python",
   "pygments_lexer": "ipython3",
   "version": "3.12.7"
  }
 },
 "nbformat": 4,
 "nbformat_minor": 5
}
