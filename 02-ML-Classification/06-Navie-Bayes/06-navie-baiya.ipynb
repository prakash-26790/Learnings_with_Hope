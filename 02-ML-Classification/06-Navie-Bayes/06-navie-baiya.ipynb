{
 "cells": [
  {
   "cell_type": "code",
   "execution_count": 59,
   "id": "398ac993-ec8e-4a86-b4a9-9b8f86f32a1d",
   "metadata": {},
   "outputs": [],
   "source": [
    "import pandas as pd\n",
    "from sklearn.model_selection import train_test_split\n",
    "from sklearn.naive_bayes import MultinomialNB\n",
    "from sklearn.naive_bayes import BernoulliNB\n",
    "from sklearn.naive_bayes import CategoricalNB\n",
    "from sklearn.naive_bayes import ComplementNB\n",
    "from sklearn.metrics import confusion_matrix\n",
    "from sklearn.metrics import classification_report"
   ]
  },
  {
   "cell_type": "code",
   "execution_count": 60,
   "id": "56befe60-3f0d-4a9b-a66e-a3dd76ddcdfb",
   "metadata": {},
   "outputs": [],
   "source": [
    "dataset = pd.read_csv(\"./../Social_Network_Ads.csv\")"
   ]
  },
  {
   "cell_type": "code",
   "execution_count": 61,
   "id": "d7782555-736d-4f3d-bf07-26cc523e970d",
   "metadata": {},
   "outputs": [],
   "source": [
    "# to convert categorical data into binary format(one-hot encoding)\n",
    "dataset = pd.get_dummies(dataset, drop_first=True)"
   ]
  },
  {
   "cell_type": "code",
   "execution_count": 62,
   "id": "146b37c5-48ee-4ab0-b463-968d518fa025",
   "metadata": {},
   "outputs": [],
   "source": [
    "dataset = dataset.drop(\"User ID\", axis=1)"
   ]
  },
  {
   "cell_type": "code",
   "execution_count": 63,
   "id": "926bb4da-6331-418c-97ee-f49fc3ba16b4",
   "metadata": {},
   "outputs": [],
   "source": [
    "independent = dataset[[\"Age\", \"EstimatedSalary\", \"Gender_Male\"]]\n",
    "dependent = dataset[\"Purchased\"]"
   ]
  },
  {
   "cell_type": "code",
   "execution_count": 64,
   "id": "7bc3fd25-10b6-4e95-a219-b1bbc40c483a",
   "metadata": {},
   "outputs": [],
   "source": [
    "x_train, x_test, y_train, y_test = train_test_split(independent, dependent, test_size=1/3, random_state=0)"
   ]
  },
  {
   "cell_type": "code",
   "execution_count": 65,
   "id": "41ada1e0-2386-47b8-8253-7885c96fee63",
   "metadata": {},
   "outputs": [
    {
     "name": "stdout",
     "output_type": "stream",
     "text": [
      "              precision    recall  f1-score   support\n",
      "\n",
      "           0       0.63      1.00      0.78        85\n",
      "           1       0.00      0.00      0.00        49\n",
      "\n",
      "    accuracy                           0.63       134\n",
      "   macro avg       0.32      0.50      0.39       134\n",
      "weighted avg       0.40      0.63      0.49       134\n",
      "\n"
     ]
    }
   ],
   "source": [
    "# MultinomialNB\n",
    "classifier = MultinomialNB()\n",
    "classifier.fit(x_train, y_train)\n",
    "y_predict = classifier.predict(x_test)\n",
    "confusion_matrix(y_test, y_predict)\n",
    "report = classification_report(y_test, y_predict, zero_division=0)\n",
    "print(report)"
   ]
  },
  {
   "cell_type": "code",
   "execution_count": null,
   "id": "ae04bc56-5dbd-4900-9af6-a0c05e04b452",
   "metadata": {},
   "outputs": [],
   "source": []
  },
  {
   "cell_type": "code",
   "execution_count": 66,
   "id": "969aa8b4-ab58-4571-a33d-e4f5cb6acd30",
   "metadata": {},
   "outputs": [
    {
     "name": "stdout",
     "output_type": "stream",
     "text": [
      "              precision    recall  f1-score   support\n",
      "\n",
      "           0       0.63      1.00      0.78        85\n",
      "           1       0.00      0.00      0.00        49\n",
      "\n",
      "    accuracy                           0.63       134\n",
      "   macro avg       0.32      0.50      0.39       134\n",
      "weighted avg       0.40      0.63      0.49       134\n",
      "\n"
     ]
    }
   ],
   "source": [
    "classifier = BernoulliNB()\n",
    "classifier.fit(x_train, y_train)\n",
    "y_predict = classifier.predict(x_test)\n",
    "confusion_matrix(y_test, y_predict)\n",
    "report = classification_report(y_test, y_predict, zero_division=0)\n",
    "print(report)"
   ]
  },
  {
   "cell_type": "code",
   "execution_count": 67,
   "id": "e9abfcea-dbfc-4f98-9186-70d56dc94a9f",
   "metadata": {},
   "outputs": [
    {
     "name": "stdout",
     "output_type": "stream",
     "text": [
      "              precision    recall  f1-score   support\n",
      "\n",
      "           0       0.82      0.96      0.89        85\n",
      "           1       0.91      0.63      0.75        49\n",
      "\n",
      "    accuracy                           0.84       134\n",
      "   macro avg       0.87      0.80      0.82       134\n",
      "weighted avg       0.85      0.84      0.84       134\n",
      "\n"
     ]
    }
   ],
   "source": [
    "classifier = CategoricalNB()\n",
    "classifier.fit(x_train, y_train)\n",
    "y_predict = classifier.predict(x_test)\n",
    "confusion_matrix(y_test, y_predict)\n",
    "report = classification_report(y_test, y_predict, zero_division = 0)\n",
    "print(report)"
   ]
  },
  {
   "cell_type": "code",
   "execution_count": 68,
   "id": "1c5bcb5d-a420-425d-8007-499ca07d7acd",
   "metadata": {},
   "outputs": [
    {
     "name": "stdout",
     "output_type": "stream",
     "text": [
      "              precision    recall  f1-score   support\n",
      "\n",
      "           0       0.67      0.47      0.55        85\n",
      "           1       0.39      0.59      0.47        49\n",
      "\n",
      "    accuracy                           0.51       134\n",
      "   macro avg       0.53      0.53      0.51       134\n",
      "weighted avg       0.57      0.51      0.52       134\n",
      "\n"
     ]
    }
   ],
   "source": [
    "classifier = ComplementNB()\n",
    "classifier.fit(x_train, y_train)\n",
    "y_predict = classifier.predict(x_test)\n",
    "confusion_matrix(y_test, y_predict)\n",
    "report = classification_report(y_test, y_predict, zero_division = 0)\n",
    "print(report)"
   ]
  },
  {
   "cell_type": "code",
   "execution_count": null,
   "id": "4e96cc69-af87-4dfb-9ad2-c740c4571b57",
   "metadata": {},
   "outputs": [],
   "source": []
  },
  {
   "cell_type": "code",
   "execution_count": null,
   "id": "13dbef59-b9b8-4917-abd7-970ccf4a35f0",
   "metadata": {},
   "outputs": [],
   "source": []
  }
 ],
 "metadata": {
  "kernelspec": {
   "display_name": "Python 3 (ipykernel)",
   "language": "python",
   "name": "python3"
  },
  "language_info": {
   "codemirror_mode": {
    "name": "ipython",
    "version": 3
   },
   "file_extension": ".py",
   "mimetype": "text/x-python",
   "name": "python",
   "nbconvert_exporter": "python",
   "pygments_lexer": "ipython3",
   "version": "3.12.7"
  }
 },
 "nbformat": 4,
 "nbformat_minor": 5
}
