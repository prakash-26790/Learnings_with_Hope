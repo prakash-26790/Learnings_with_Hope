{
 "cells": [
  {
   "cell_type": "code",
   "execution_count": 1,
   "id": "398ac993-ec8e-4a86-b4a9-9b8f86f32a1d",
   "metadata": {},
   "outputs": [],
   "source": [
    "import pandas as pd\n",
    "from sklearn.model_selection import train_test_split\n",
    "from sklearn.model_selection import GridSearchCV\n",
    "from sklearn.svm import SVC\n",
    "from sklearn.metrics import confusion_matrix\n",
    "from sklearn.metrics import classification_report\n",
    "from sklearn.preprocessing import LabelEncoder"
   ]
  },
  {
   "cell_type": "code",
   "execution_count": 2,
   "id": "56befe60-3f0d-4a9b-a66e-a3dd76ddcdfb",
   "metadata": {},
   "outputs": [],
   "source": [
    "# Load dataset\n",
    "dataset = pd.read_csv(\"./CKD.csv\")"
   ]
  },
  {
   "cell_type": "code",
   "execution_count": 3,
   "id": "90e99562-3af6-476f-b322-35a9961cd883",
   "metadata": {},
   "outputs": [],
   "source": [
    "# Separate independent and dependent variables\n",
    "independent = dataset.drop(\"classification\", axis=1)\n",
    "dependent = dataset[\"classification\"]"
   ]
  },
  {
   "cell_type": "code",
   "execution_count": 4,
   "id": "30f81ded-bcca-4cb5-a144-d493bf0aa05c",
   "metadata": {},
   "outputs": [],
   "source": [
    "# convert categorical data into binary format(one-hot encoding)\n",
    "independent = pd.get_dummies(independent, drop_first=True)"
   ]
  },
  {
   "cell_type": "code",
   "execution_count": 5,
   "id": "d7782555-736d-4f3d-bf07-26cc523e970d",
   "metadata": {},
   "outputs": [],
   "source": [
    "# Dependent variable is categorical (e.g., 'yes'/'no'), encode it to numerical values\n",
    "label_encoder = LabelEncoder()\n",
    "dependent = label_encoder.fit_transform(dependent)"
   ]
  },
  {
   "cell_type": "code",
   "execution_count": 6,
   "id": "7bc3fd25-10b6-4e95-a219-b1bbc40c483a",
   "metadata": {},
   "outputs": [],
   "source": [
    "x_train, x_test, y_train, y_test = train_test_split(independent, dependent, test_size=1/3, random_state=0)"
   ]
  },
  {
   "cell_type": "code",
   "execution_count": 7,
   "id": "41ada1e0-2386-47b8-8253-7885c96fee63",
   "metadata": {},
   "outputs": [
    {
     "name": "stdout",
     "output_type": "stream",
     "text": [
      "              precision    recall  f1-score   support\n",
      "\n",
      "           0       0.00      0.00      0.00        51\n",
      "           1       0.62      1.00      0.76        82\n",
      "\n",
      "    accuracy                           0.62       133\n",
      "   macro avg       0.31      0.50      0.38       133\n",
      "weighted avg       0.38      0.62      0.47       133\n",
      "\n"
     ]
    },
    {
     "name": "stderr",
     "output_type": "stream",
     "text": [
      "/opt/anaconda3/lib/python3.12/site-packages/sklearn/metrics/_classification.py:1531: UndefinedMetricWarning: Precision is ill-defined and being set to 0.0 in labels with no predicted samples. Use `zero_division` parameter to control this behavior.\n",
      "  _warn_prf(average, modifier, f\"{metric.capitalize()} is\", len(result))\n",
      "/opt/anaconda3/lib/python3.12/site-packages/sklearn/metrics/_classification.py:1531: UndefinedMetricWarning: Precision is ill-defined and being set to 0.0 in labels with no predicted samples. Use `zero_division` parameter to control this behavior.\n",
      "  _warn_prf(average, modifier, f\"{metric.capitalize()} is\", len(result))\n",
      "/opt/anaconda3/lib/python3.12/site-packages/sklearn/metrics/_classification.py:1531: UndefinedMetricWarning: Precision is ill-defined and being set to 0.0 in labels with no predicted samples. Use `zero_division` parameter to control this behavior.\n",
      "  _warn_prf(average, modifier, f\"{metric.capitalize()} is\", len(result))\n"
     ]
    }
   ],
   "source": [
    "classifier = SVC(kernel = 'rbf', random_state = 0)\n",
    "classifier.fit(x_train, y_train)\n",
    "\n",
    "y_predict = classifier.predict(x_test)\n",
    "report = classification_report(y_test, y_predict)\n",
    "print(report)"
   ]
  },
  {
   "cell_type": "code",
   "execution_count": 19,
   "id": "e7dd9469-6578-48fa-8535-41651fa4465f",
   "metadata": {},
   "outputs": [
    {
     "name": "stdout",
     "output_type": "stream",
     "text": [
      "Fitting 5 folds for each of 3 candidates, totalling 15 fits\n",
      "Best Parameters: {'kernel': 'sigmoid', 'random_state': 0}\n",
      "              precision    recall  f1-score   support\n",
      "\n",
      "           0       0.27      0.12      0.16        51\n",
      "           1       0.59      0.80      0.68        82\n",
      "\n",
      "    accuracy                           0.54       133\n",
      "   macro avg       0.43      0.46      0.42       133\n",
      "weighted avg       0.47      0.54      0.48       133\n",
      "\n"
     ]
    }
   ],
   "source": [
    "param_grid = {\n",
    "    'kernel': ['rbf', 'sigmoid', 'poly'],\n",
    "    'random_state': [0]\n",
    "}\n",
    "\n",
    "grid = GridSearchCV(SVC(), param_grid, refit=True, verbose=3, n_jobs=-1, scoring='f1_weighted')\n",
    "grid.fit(x_train, y_train)\n",
    "print(\"Best Parameters:\", grid.best_params_)\n",
    "y_predict = grid.predict(x_test)\n",
    "report = classification_report(y_test, y_predict)\n",
    "print(report)\n"
   ]
  },
  {
   "cell_type": "code",
   "execution_count": null,
   "id": "6416b9a7-9c36-4342-800e-e9fa7085648b",
   "metadata": {},
   "outputs": [],
   "source": []
  },
  {
   "cell_type": "code",
   "execution_count": null,
   "id": "969aa8b4-ab58-4571-a33d-e4f5cb6acd30",
   "metadata": {},
   "outputs": [],
   "source": []
  },
  {
   "cell_type": "code",
   "execution_count": null,
   "id": "ce8ccfd1-f130-4e9a-8cc7-4242cc8e3ba8",
   "metadata": {},
   "outputs": [],
   "source": []
  }
 ],
 "metadata": {
  "kernelspec": {
   "display_name": "Python 3 (ipykernel)",
   "language": "python",
   "name": "python3"
  },
  "language_info": {
   "codemirror_mode": {
    "name": "ipython",
    "version": 3
   },
   "file_extension": ".py",
   "mimetype": "text/x-python",
   "name": "python",
   "nbconvert_exporter": "python",
   "pygments_lexer": "ipython3",
   "version": "3.12.7"
  }
 },
 "nbformat": 4,
 "nbformat_minor": 5
}
