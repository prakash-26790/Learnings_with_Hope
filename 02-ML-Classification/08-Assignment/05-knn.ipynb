{
 "cells": [
  {
   "cell_type": "code",
   "execution_count": 1,
   "id": "398ac993-ec8e-4a86-b4a9-9b8f86f32a1d",
   "metadata": {},
   "outputs": [],
   "source": [
    "import pandas as pd\n",
    "from sklearn.model_selection import train_test_split\n",
    "from sklearn.model_selection import GridSearchCV\n",
    "from sklearn.neighbors import KNeighborsClassifier\n",
    "from sklearn.metrics import confusion_matrix\n",
    "from sklearn.metrics import classification_report\n",
    "from sklearn.preprocessing import LabelEncoder"
   ]
  },
  {
   "cell_type": "code",
   "execution_count": 2,
   "id": "56befe60-3f0d-4a9b-a66e-a3dd76ddcdfb",
   "metadata": {},
   "outputs": [],
   "source": [
    "# Load dataset\n",
    "dataset = pd.read_csv(\"./CKD.csv\")"
   ]
  },
  {
   "cell_type": "code",
   "execution_count": 3,
   "id": "90e99562-3af6-476f-b322-35a9961cd883",
   "metadata": {},
   "outputs": [],
   "source": [
    "# Separate independent and dependent variables\n",
    "independent = dataset.drop(\"classification\", axis=1)\n",
    "dependent = dataset[\"classification\"]"
   ]
  },
  {
   "cell_type": "code",
   "execution_count": 4,
   "id": "30f81ded-bcca-4cb5-a144-d493bf0aa05c",
   "metadata": {},
   "outputs": [],
   "source": [
    "# convert categorical data into binary format(one-hot encoding)\n",
    "independent = pd.get_dummies(independent, drop_first=True)"
   ]
  },
  {
   "cell_type": "code",
   "execution_count": 5,
   "id": "d7782555-736d-4f3d-bf07-26cc523e970d",
   "metadata": {},
   "outputs": [],
   "source": [
    "# Dependent variable is categorical (e.g., 'yes'/'no'), encode it to numerical values\n",
    "label_encoder = LabelEncoder()\n",
    "dependent = label_encoder.fit_transform(dependent)"
   ]
  },
  {
   "cell_type": "code",
   "execution_count": 6,
   "id": "7bc3fd25-10b6-4e95-a219-b1bbc40c483a",
   "metadata": {},
   "outputs": [],
   "source": [
    "x_train, x_test, y_train, y_test = train_test_split(independent, dependent, test_size=1/3, random_state=0)"
   ]
  },
  {
   "cell_type": "code",
   "execution_count": 13,
   "id": "41ada1e0-2386-47b8-8253-7885c96fee63",
   "metadata": {},
   "outputs": [
    {
     "name": "stdout",
     "output_type": "stream",
     "text": [
      "              precision    recall  f1-score   support\n",
      "\n",
      "           0       0.57      0.78      0.66        51\n",
      "           1       0.83      0.63      0.72        82\n",
      "\n",
      "    accuracy                           0.69       133\n",
      "   macro avg       0.70      0.71      0.69       133\n",
      "weighted avg       0.73      0.69      0.70       133\n",
      "\n"
     ]
    }
   ],
   "source": [
    "classifier = KNeighborsClassifier(n_neighbors = 7, metric = 'minkowski', p = 2)\n",
    "classifier.fit(x_train, y_train)\n",
    "y_predict = classifier.predict(x_test)\n",
    "confusion_matrix(y_test, y_predict)\n",
    "report = classification_report(y_test, y_predict)\n",
    "print(report)"
   ]
  },
  {
   "cell_type": "code",
   "execution_count": 15,
   "id": "e7dd9469-6578-48fa-8535-41651fa4465f",
   "metadata": {},
   "outputs": [
    {
     "name": "stdout",
     "output_type": "stream",
     "text": [
      "Fitting 5 folds for each of 60 candidates, totalling 300 fits\n",
      "Best Parameters: {'metric': 'cosine', 'n_neighbors': 5, 'p': 1}\n",
      "              precision    recall  f1-score   support\n",
      "\n",
      "           0       0.80      0.94      0.86        51\n",
      "           1       0.96      0.85      0.90        82\n",
      "\n",
      "    accuracy                           0.89       133\n",
      "   macro avg       0.88      0.90      0.88       133\n",
      "weighted avg       0.90      0.89      0.89       133\n",
      "\n"
     ]
    }
   ],
   "source": [
    "\n",
    "param_grid = {\n",
    "    'n_neighbors': [3, 5, 7, 10, 15, 20],\n",
    "    'metric': ['euclidean', 'manhattan', 'minkowski', 'chebyshev', 'cosine'],\n",
    "    'p': [1, 2]\n",
    "}\n",
    "\n",
    "grid = GridSearchCV(KNeighborsClassifier(), param_grid, refit=True, verbose=3, n_jobs=-1, scoring='f1_weighted')\n",
    "grid.fit(x_train, y_train)\n",
    "\n",
    "best_params = grid.best_params_\n",
    "print(\"Best Parameters:\", best_params)\n",
    "\n",
    "y_predict = grid.predict(x_test)\n",
    "confusion_matrix(y_test, y_predict)\n",
    "report = classification_report(y_test, y_predict)\n",
    "print(report)"
   ]
  },
  {
   "cell_type": "code",
   "execution_count": null,
   "id": "6416b9a7-9c36-4342-800e-e9fa7085648b",
   "metadata": {},
   "outputs": [],
   "source": []
  },
  {
   "cell_type": "code",
   "execution_count": null,
   "id": "969aa8b4-ab58-4571-a33d-e4f5cb6acd30",
   "metadata": {},
   "outputs": [],
   "source": []
  },
  {
   "cell_type": "code",
   "execution_count": null,
   "id": "ce8ccfd1-f130-4e9a-8cc7-4242cc8e3ba8",
   "metadata": {},
   "outputs": [],
   "source": []
  }
 ],
 "metadata": {
  "kernelspec": {
   "display_name": "Python 3 (ipykernel)",
   "language": "python",
   "name": "python3"
  },
  "language_info": {
   "codemirror_mode": {
    "name": "ipython",
    "version": 3
   },
   "file_extension": ".py",
   "mimetype": "text/x-python",
   "name": "python",
   "nbconvert_exporter": "python",
   "pygments_lexer": "ipython3",
   "version": "3.12.7"
  }
 },
 "nbformat": 4,
 "nbformat_minor": 5
}
