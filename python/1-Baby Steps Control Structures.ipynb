{
 "cells": [
  {
   "cell_type": "code",
   "execution_count": 2,
   "id": "905fbef0-4a77-4f6d-9267-275fe26d2a0e",
   "metadata": {},
   "outputs": [
    {
     "name": "stdout",
     "output_type": "stream",
     "text": [
      "Welcome to Assignment-1\n"
     ]
    }
   ],
   "source": [
    "print(\"Welcome to Assignment-1\")"
   ]
  },
  {
   "cell_type": "code",
   "execution_count": 8,
   "id": "bcefaa50-09a4-4dcf-936f-c9c1f0ec3cba",
   "metadata": {},
   "outputs": [
    {
     "name": "stdout",
     "output_type": "stream",
     "text": [
      "Num1= 10\n",
      "Num2= 30\n",
      "Add= 40\n"
     ]
    }
   ],
   "source": [
    "num1=10\n",
    "num2=30\n",
    "print(\"Num1=\", num1)\n",
    "print(\"Num2=\", num2)\n",
    "print(\"Add=\", num1 + num2)"
   ]
  },
  {
   "cell_type": "code",
   "execution_count": 24,
   "id": "382a7636-a453-47db-badc-426b1ca900f4",
   "metadata": {},
   "outputs": [
    {
     "name": "stdin",
     "output_type": "stream",
     "text": [
      "Enter the BMI Index: 22.5\n"
     ]
    },
    {
     "name": "stdout",
     "output_type": "stream",
     "text": [
      "Normal\n"
     ]
    }
   ],
   "source": [
    "bmi=float(input(\"Enter the BMI Index:\"))\n",
    "if (bmi < 18.5):\n",
    "    print(\"Underweight\")\n",
    "elif(bmi < 25):\n",
    "    print(\"Normal\")\n",
    "elif(bmi < 30):\n",
    "    print(\"Overweight\")\n",
    "else:\n",
    "    print(\"Obeses\")\n"
   ]
  },
  {
   "cell_type": "code",
   "execution_count": null,
   "id": "992df3e6-a6e3-4d0e-869f-6f4d41bce877",
   "metadata": {},
   "outputs": [],
   "source": []
  }
 ],
 "metadata": {
  "kernelspec": {
   "display_name": "Python 3 (ipykernel)",
   "language": "python",
   "name": "python3"
  },
  "language_info": {
   "codemirror_mode": {
    "name": "ipython",
    "version": 3
   },
   "file_extension": ".py",
   "mimetype": "text/x-python",
   "name": "python",
   "nbconvert_exporter": "python",
   "pygments_lexer": "ipython3",
   "version": "3.12.7"
  }
 },
 "nbformat": 4,
 "nbformat_minor": 5
}
