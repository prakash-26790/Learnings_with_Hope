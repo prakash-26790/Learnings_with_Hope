{
 "cells": [
  {
   "cell_type": "code",
   "execution_count": 1,
   "id": "a2afbee1-15a9-400b-9065-85499dbdc7f6",
   "metadata": {},
   "outputs": [
    {
     "name": "stdout",
     "output_type": "stream",
     "text": [
      "0\n",
      "1\n",
      "2\n",
      "3\n",
      "4\n",
      "5\n",
      "6\n",
      "7\n",
      "8\n",
      "9\n",
      "10\n",
      "11\n",
      "12\n",
      "13\n",
      "14\n",
      "15\n",
      "16\n",
      "17\n",
      "18\n",
      "19\n"
     ]
    }
   ],
   "source": [
    "for num in range(0, 20):\n",
    "    print(num)"
   ]
  },
  {
   "cell_type": "code",
   "execution_count": 21,
   "id": "95154fd1-0355-4008-8bfd-756afe4537c5",
   "metadata": {},
   "outputs": [
    {
     "name": "stdout",
     "output_type": "stream",
     "text": [
      "10 11 12 13 14 15 16 17 18 19 "
     ]
    }
   ],
   "source": [
    "for num in range(10, 20):\n",
    "    print(num, end=\" \"),"
   ]
  },
  {
   "cell_type": "code",
   "execution_count": 31,
   "id": "d37a2a12-809d-4a77-9c51-c7cad1304ade",
   "metadata": {},
   "outputs": [
    {
     "name": "stdout",
     "output_type": "stream",
     "text": [
      "[10, 20, 30, 40, 50, 60, 70]\n",
      "Number of items in the list: 7\n"
     ]
    }
   ],
   "source": [
    "lists=[10, 20, 30, 40, 50, 60, 70]\n",
    "print (lists)\n",
    "print(\"Number of items in the list:\", len(lists))"
   ]
  },
  {
   "cell_type": "code",
   "execution_count": 37,
   "id": "fc3ae45c-840a-4d4d-8135-5657f3b83732",
   "metadata": {},
   "outputs": [
    {
     "name": "stdout",
     "output_type": "stream",
     "text": [
      "Artificial Intelligence\n",
      "A\n",
      "r\n",
      "t\n",
      "i\n",
      "f\n",
      "i\n",
      "c\n",
      "i\n",
      "a\n",
      "l\n",
      " \n",
      "I\n",
      "n\n",
      "t\n",
      "e\n",
      "l\n",
      "l\n",
      "i\n",
      "g\n",
      "e\n",
      "n\n",
      "c\n",
      "e\n"
     ]
    }
   ],
   "source": [
    "inputs=\"Artificial Intelligence\"\n",
    "print(inputs)\n",
    "for name in inputs:\n",
    "    print(name)"
   ]
  },
  {
   "cell_type": "code",
   "execution_count": 45,
   "id": "fac9ef98-cf9a-40c6-9d28-3d7814113d04",
   "metadata": {},
   "outputs": [
    {
     "name": "stdin",
     "output_type": "stream",
     "text": [
      "- Your Name -  Prakash\n",
      "- Your Age -  30\n",
      "- Your Profession -  DevOps\n"
     ]
    }
   ],
   "source": [
    "name=input(\"- Your Name - \")\n",
    "age=input(\"- Your Age - \")\n",
    "prof=input(\"- Your Profession - \")"
   ]
  },
  {
   "cell_type": "code",
   "execution_count": 49,
   "id": "3ef09ea5-a8cd-4f29-9008-12ad25fa5183",
   "metadata": {},
   "outputs": [
    {
     "name": "stdout",
     "output_type": "stream",
     "text": [
      "(1, 'Welcome', 2, 'Hope')\n"
     ]
    }
   ],
   "source": [
    "mixed=(1, \"Welcome\", 2, \"Hope\")\n",
    "print(mixed)"
   ]
  },
  {
   "cell_type": "code",
   "execution_count": 51,
   "id": "fdf68608-2873-4bf4-81e8-7e52727ccfdb",
   "metadata": {},
   "outputs": [
    {
     "name": "stdout",
     "output_type": "stream",
     "text": [
      "((0, 1, 2, 3), ('python', 'Hope'))\n"
     ]
    }
   ],
   "source": [
    "tuple1=(0, 1, 2, 3)\n",
    "tuple2=(\"python\", \"Hope\")\n",
    "tuple3=(tuple1, tuple2)\n",
    "print(tuple3)"
   ]
  },
  {
   "cell_type": "code",
   "execution_count": 61,
   "id": "bbea6079-984b-406a-b9da-2c7d52380eb6",
   "metadata": {},
   "outputs": [
    {
     "name": "stdout",
     "output_type": "stream",
     "text": [
      "(20, 10, 16, 19, 25, 1, 276, 188)\n",
      "19 is odd\n",
      "25 is odd\n",
      "1 is odd\n"
     ]
    }
   ],
   "source": [
    "numbers=(20, 10, 16, 19, 25, 1, 276, 188)\n",
    "print(numbers)\n",
    "for num in numbers:\n",
    "    if(num%2 == 1):\n",
    "        print(num, \"is odd\")"
   ]
  },
  {
   "cell_type": "code",
   "execution_count": null,
   "id": "e5188900-e0f3-4264-9f37-4ed7e5bae0d7",
   "metadata": {},
   "outputs": [],
   "source": []
  }
 ],
 "metadata": {
  "kernelspec": {
   "display_name": "Python 3 (ipykernel)",
   "language": "python",
   "name": "python3"
  },
  "language_info": {
   "codemirror_mode": {
    "name": "ipython",
    "version": 3
   },
   "file_extension": ".py",
   "mimetype": "text/x-python",
   "name": "python",
   "nbconvert_exporter": "python",
   "pygments_lexer": "ipython3",
   "version": "3.12.7"
  }
 },
 "nbformat": 4,
 "nbformat_minor": 5
}
