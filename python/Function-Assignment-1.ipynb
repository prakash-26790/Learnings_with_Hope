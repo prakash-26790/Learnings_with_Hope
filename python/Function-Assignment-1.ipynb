{
 "cells": [
  {
   "cell_type": "code",
   "execution_count": 21,
   "id": "3d79e686-5c4e-4888-b1b0-56d00929fe07",
   "metadata": {},
   "outputs": [],
   "source": [
    "class SubfieldsInAI:\n",
    "    def Subfields():\n",
    "        fields=[\"Machine Learning\", \"Neural Networks\", \"Vision\", \"Robotics\", \"Speech Processing\", \"Natural Language Processing\"]\n",
    "        print(\"Sub-fields in AI are:\")\n",
    "        for field in fields:\n",
    "            print(field)"
   ]
  },
  {
   "cell_type": "code",
   "execution_count": 23,
   "id": "19ebee3f-ceb3-4ee8-b8fd-9b822f672f53",
   "metadata": {},
   "outputs": [
    {
     "name": "stdout",
     "output_type": "stream",
     "text": [
      "Sub-fields in AI are:\n",
      "Machine Learning\n",
      "Neural Networks\n",
      "Vision\n",
      "Robotics\n",
      "Speech Processing\n",
      "Natural Language Processing\n"
     ]
    }
   ],
   "source": [
    "SubfieldsInAI.Subfields()"
   ]
  },
  {
   "cell_type": "code",
   "execution_count": null,
   "id": "1d5e8c12-3a72-4063-bb6c-8981c2b16a38",
   "metadata": {},
   "outputs": [],
   "source": []
  },
  {
   "cell_type": "code",
   "execution_count": 47,
   "id": "8156b064-a4ff-4070-9da7-80f458b58abc",
   "metadata": {},
   "outputs": [],
   "source": [
    "class OddEven:\n",
    "    def OddEven():\n",
    "        number=int(input(\"Enter a number:\"))\n",
    "        if number % 2 == 0:\n",
    "            print(number, \"is Even number\")\n",
    "        else:\n",
    "            print(number, \"is NOT Even number\")"
   ]
  },
  {
   "cell_type": "code",
   "execution_count": 49,
   "id": "d033d9d0-eec3-4c77-970c-8b26aebbce45",
   "metadata": {},
   "outputs": [
    {
     "name": "stdin",
     "output_type": "stream",
     "text": [
      "Enter a number: 52452\n"
     ]
    },
    {
     "name": "stdout",
     "output_type": "stream",
     "text": [
      "52452 is Even number\n"
     ]
    }
   ],
   "source": [
    "OddEven.OddEven()"
   ]
  },
  {
   "cell_type": "code",
   "execution_count": null,
   "id": "90386a6d-9d91-4e6c-9402-616a3469f255",
   "metadata": {},
   "outputs": [],
   "source": []
  },
  {
   "cell_type": "code",
   "execution_count": 65,
   "id": "5590f3b6-4791-4334-8f87-6514481677b2",
   "metadata": {},
   "outputs": [],
   "source": [
    "class EligibilityForMarriage:\n",
    "    def Eligible():\n",
    "        gender=input(\"Your Gender:\").lower()\n",
    "        age=int(input(\"Your Age:\"))\n",
    "        if gender == \"male\" and age > 20:\n",
    "            print(\"ELIGIBLE\")\n",
    "        elif gender == \"female\" and age > 18:\n",
    "            print(\"ELIGIBLE\")\n",
    "        else:\n",
    "            print(\"NOT ELIGIBLE\")"
   ]
  },
  {
   "cell_type": "code",
   "execution_count": 73,
   "id": "e51e54f4-0f74-4f03-8e59-d9684c9ed48a",
   "metadata": {},
   "outputs": [
    {
     "name": "stdin",
     "output_type": "stream",
     "text": [
      "Your Gender: male\n",
      "Your Age: 20\n"
     ]
    },
    {
     "name": "stdout",
     "output_type": "stream",
     "text": [
      "NOT ELIGIBLE\n"
     ]
    }
   ],
   "source": [
    "EligibilityForMarriage.Eligible()"
   ]
  },
  {
   "cell_type": "code",
   "execution_count": null,
   "id": "e33340f9-f2bc-4172-b453-c88d0d3f750a",
   "metadata": {},
   "outputs": [],
   "source": []
  },
  {
   "cell_type": "code",
   "execution_count": 111,
   "id": "6f20c020-f7c8-46ed-bdc5-9b3137b0071c",
   "metadata": {},
   "outputs": [],
   "source": [
    "class FindPercent:\n",
    "    def percentage():\n",
    "        totalMark=0\n",
    "        for index in range(1,6):\n",
    "            mark=int(input(f\"Subject{index}=\"))\n",
    "            totalMark += mark\n",
    "        print(\"Total:\", totalMark)\n",
    "        print(\"Percentage:\", totalMark/5)\n"
   ]
  },
  {
   "cell_type": "code",
   "execution_count": 113,
   "id": "4878362d-dedd-4469-a13b-0f91d8d8d798",
   "metadata": {},
   "outputs": [
    {
     "name": "stdin",
     "output_type": "stream",
     "text": [
      "Subject1= 90\n",
      "Subject2= 91\n",
      "Subject3= 89\n",
      "Subject4= 97\n",
      "Subject5= 90\n"
     ]
    },
    {
     "name": "stdout",
     "output_type": "stream",
     "text": [
      "Total: 457\n",
      "Percentage: 91.4\n"
     ]
    }
   ],
   "source": [
    "FindPercent.percentage()"
   ]
  },
  {
   "cell_type": "code",
   "execution_count": null,
   "id": "65a12a5e-57dd-4277-aed5-244e63b2e9fe",
   "metadata": {},
   "outputs": [],
   "source": []
  },
  {
   "cell_type": "code",
   "execution_count": 3,
   "id": "0aaf4c9c-8cf1-45f9-8973-57eba0852bd7",
   "metadata": {},
   "outputs": [
    {
     "name": "stdin",
     "output_type": "stream",
     "text": [
      "Height: 45\n",
      "Breadth: 60\n"
     ]
    },
    {
     "name": "stdout",
     "output_type": "stream",
     "text": [
      "Area Formula: (Height * Breadth)/2)\n",
      "Area of Triangle: 1350.0\n"
     ]
    },
    {
     "name": "stdin",
     "output_type": "stream",
     "text": [
      "Height1: 35\n",
      "Height2: 23\n",
      "Breadth: 54\n"
     ]
    },
    {
     "name": "stdout",
     "output_type": "stream",
     "text": [
      "Perimeter Formula: Height1 + Height2 + Breadth\n",
      "Perimeter of Triangle: 112\n"
     ]
    }
   ],
   "source": [
    "\n",
    "class Triangle:\n",
    "    def triangle(self):\n",
    "        height=int(input(\"Height:\"))\n",
    "        breadth=int(input(\"Breadth:\"))\n",
    "        area = self.find_area(height, breadth)\n",
    "        print(\"Area of Triangle:\", area)\n",
    "    \n",
    "        height1=int(input(\"Height1:\"))\n",
    "        height2=int(input(\"Height2:\"))\n",
    "        breadth=int(input(\"Breadth:\"))\n",
    "        perimeter = self.find_perimeter(height1, height2, breadth)\n",
    "        print(\"Perimeter of Triangle:\", perimeter)\n",
    "        \n",
    "    def find_area(self, height, breadth):\n",
    "        print(\"Area Formula: (Height * Breadth)/2)\")\n",
    "        area = (height * breadth) / 2\n",
    "        return area\n",
    "    \n",
    "    def find_perimeter(self, height1, height2, breadth):\n",
    "        print(\"Perimeter Formula: Height1 + Height2 + Breadth\")\n",
    "        perimeter = height1 + height2 + breadth\n",
    "        return perimeter\n",
    "\n",
    "triangle=Triangle()\n",
    "triangle.triangle()"
   ]
  },
  {
   "cell_type": "code",
   "execution_count": null,
   "id": "0aa43094-b56a-4adc-b339-0b24c5314c1b",
   "metadata": {},
   "outputs": [],
   "source": []
  }
 ],
 "metadata": {
  "kernelspec": {
   "display_name": "Python 3 (ipykernel)",
   "language": "python",
   "name": "python3"
  },
  "language_info": {
   "codemirror_mode": {
    "name": "ipython",
    "version": 3
   },
   "file_extension": ".py",
   "mimetype": "text/x-python",
   "name": "python",
   "nbconvert_exporter": "python",
   "pygments_lexer": "ipython3",
   "version": "3.12.7"
  }
 },
 "nbformat": 4,
 "nbformat_minor": 5
}
