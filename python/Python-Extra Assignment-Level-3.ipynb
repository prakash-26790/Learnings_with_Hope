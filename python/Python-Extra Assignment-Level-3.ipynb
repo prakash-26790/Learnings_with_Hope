{
 "cells": [
  {
   "cell_type": "code",
   "execution_count": 3,
   "id": "0929045b-10bf-4af8-a700-145b73924aeb",
   "metadata": {},
   "outputs": [
    {
     "name": "stdin",
     "output_type": "stream",
     "text": [
      "value: 10\n"
     ]
    },
    {
     "name": "stdout",
     "output_type": "stream",
     "text": [
      "Correct\n"
     ]
    }
   ],
   "source": [
    "value=int(input(\"value:\"))\n",
    "if value == 10:\n",
    "    print(\"Correct\")"
   ]
  },
  {
   "cell_type": "code",
   "execution_count": 28,
   "id": "0a41a180-dab5-401f-888a-45b070f0feeb",
   "metadata": {},
   "outputs": [
    {
     "name": "stdin",
     "output_type": "stream",
     "text": [
      "Enter the Password: HOPE@123\n"
     ]
    },
    {
     "name": "stdout",
     "output_type": "stream",
     "text": [
      "Your Password is Correct\n"
     ]
    }
   ],
   "source": [
    "password=input(\"Enter the Password:\")\n",
    "if password == \"HOPE@123\":\n",
    "    print(\"Your Password is Correct\")"
   ]
  },
  {
   "cell_type": "code",
   "execution_count": 41,
   "id": "39ded8b8-730b-4d28-b9fc-c409c9a18f37",
   "metadata": {},
   "outputs": [
    {
     "name": "stdin",
     "output_type": "stream",
     "text": [
      "age: 20\n"
     ]
    },
    {
     "name": "stdout",
     "output_type": "stream",
     "text": [
      "Adult\n"
     ]
    }
   ],
   "source": [
    "age=int(input(\"age:\"))\n",
    "if age < 13:\n",
    "    print(\"Children\")\n",
    "elif age < 29:\n",
    "    print(\"Adult\")\n",
    "elif age < 59:\n",
    "    print(\"Citizen\")\n",
    "else:\n",
    "    print(\"Senior Citizen\")\n",
    "    "
   ]
  },
  {
   "cell_type": "code",
   "execution_count": 49,
   "id": "d78d5563-efa7-44b0-83d3-543ab558e33f",
   "metadata": {},
   "outputs": [
    {
     "name": "stdin",
     "output_type": "stream",
     "text": [
      "Enter any number:  1\n"
     ]
    },
    {
     "name": "stdout",
     "output_type": "stream",
     "text": [
      "Number is Positive\n"
     ]
    }
   ],
   "source": [
    "number = int(input(\"Enter any number: \"))\n",
    "if number < 0:\n",
    "    print(\"Number is Negative\")\n",
    "elif number > 0:\n",
    "    print(\"Number is Positive\")\n",
    "else:\n",
    "    print(\"The number is 0\")"
   ]
  },
  {
   "cell_type": "code",
   "execution_count": 59,
   "id": "dd4429b0-7cb2-45a7-84a6-071f990987b2",
   "metadata": {},
   "outputs": [
    {
     "name": "stdin",
     "output_type": "stream",
     "text": [
      "Enter a number to check:  22\n"
     ]
    },
    {
     "name": "stdout",
     "output_type": "stream",
     "text": [
      "Number is not divisible by 5\n"
     ]
    }
   ],
   "source": [
    "number = int(input(\"Enter a number to check: \"))\n",
    "if number % 5 != 0:\n",
    "    print(\"Number is not divisible by 5\")\n",
    "else:\n",
    "    print(\"Number is divisible by 5\")"
   ]
  },
  {
   "cell_type": "code",
   "execution_count": null,
   "id": "555acf62-e3aa-4132-938d-5931a996cdad",
   "metadata": {},
   "outputs": [],
   "source": []
  }
 ],
 "metadata": {
  "kernelspec": {
   "display_name": "Python 3 (ipykernel)",
   "language": "python",
   "name": "python3"
  },
  "language_info": {
   "codemirror_mode": {
    "name": "ipython",
    "version": 3
   },
   "file_extension": ".py",
   "mimetype": "text/x-python",
   "name": "python",
   "nbconvert_exporter": "python",
   "pygments_lexer": "ipython3",
   "version": "3.12.7"
  }
 },
 "nbformat": 4,
 "nbformat_minor": 5
}
